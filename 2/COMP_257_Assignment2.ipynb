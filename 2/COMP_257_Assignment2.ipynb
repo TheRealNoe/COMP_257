{
  "nbformat": 4,
  "nbformat_minor": 0,
  "metadata": {
    "colab": {
      "provenance": []
    },
    "kernelspec": {
      "name": "python3",
      "display_name": "Python 3"
    },
    "language_info": {
      "name": "python"
    }
  },
  "cells": [
    {
      "cell_type": "code",
      "execution_count": 11,
      "metadata": {
        "id": "Rr7uQuceBcbt"
      },
      "outputs": [],
      "source": [
        "# imports\n",
        "import numpy as np\n",
        "from sklearn.datasets import fetch_olivetti_faces\n",
        "from sklearn.model_selection import train_test_split, cross_val_score\n",
        "from sklearn.svm import SVC\n",
        "from sklearn.metrics import accuracy_score\n",
        "from sklearn.cluster import KMeans\n",
        "from sklearn.metrics import silhouette_score\n",
        "from sklearn.cluster import DBSCAN\n",
        "import warnings\n",
        "warnings.filterwarnings(action=\"ignore\", category=FutureWarning)"
      ]
    },
    {
      "cell_type": "code",
      "source": [
        "# get dataset\n",
        "data = fetch_olivetti_faces(shuffle=True, random_state=42)\n",
        "\n",
        "X = data.images.reshape(data.images.shape[0], -1)\n",
        "y = data.target\n",
        "\n",
        "print(\"Images shape:\", X.shape)\n",
        "print(\"Labels shape:\", y.shape)"
      ],
      "metadata": {
        "colab": {
          "base_uri": "https://localhost:8080/"
        },
        "id": "6Zrmgn1ZBmPo",
        "outputId": "10e7e22e-6a9b-458f-aaab-bbb3d6b23da6"
      },
      "execution_count": 2,
      "outputs": [
        {
          "output_type": "stream",
          "name": "stdout",
          "text": [
            "downloading Olivetti faces from https://ndownloader.figshare.com/files/5976027 to /root/scikit_learn_data\n",
            "Images shape: (400, 4096)\n",
            "Labels shape: (400,)\n"
          ]
        }
      ]
    },
    {
      "cell_type": "code",
      "source": [
        "# split data into training 70% and temporary 30%\n",
        "X_train, X_temp, y_train, y_temp = train_test_split(X, y, test_size=0.3, random_state=42, stratify=y)\n",
        "\n",
        "# split temporary into validation 15% and test 15%\n",
        "X_val, X_test, y_val, y_test = train_test_split(X_temp, y_temp, test_size=0.5, random_state=42, stratify=y_temp)\n",
        "\n",
        "print(\"Training set size:\", X_train.shape[0])\n",
        "print(\"Validation set size:\", X_val.shape[0])\n",
        "print(\"Test set size:\", X_test.shape[0])"
      ],
      "metadata": {
        "colab": {
          "base_uri": "https://localhost:8080/"
        },
        "id": "7AL0ahOnCg0x",
        "outputId": "d5d04a63-7297-4154-f860-85a23598d09b"
      },
      "execution_count": 3,
      "outputs": [
        {
          "output_type": "stream",
          "name": "stdout",
          "text": [
            "Training set size: 280\n",
            "Validation set size: 60\n",
            "Test set size: 60\n"
          ]
        }
      ]
    },
    {
      "cell_type": "code",
      "source": [
        "# perform k-fold cross-validation on svc classifier\n",
        "classifier = SVC(kernel=\"linear\", random_state=42)\n",
        "cross_val_scores = cross_val_score(classifier, X_train, y_train, cv=5)\n",
        "classifier.fit(X_train, y_train)\n",
        "\n",
        "# predict on validation set\n",
        "validation_predictions = classifier.predict(X_val)\n",
        "\n",
        "# calculate accuracy on validation set\n",
        "validation_accuracy = accuracy_score(y_val, validation_predictions)\n",
        "print(validation_accuracy)"
      ],
      "metadata": {
        "colab": {
          "base_uri": "https://localhost:8080/"
        },
        "id": "9Mpe-QSIDnq7",
        "outputId": "b83743f4-e50d-41b1-fbe8-2cd0bce83e8b"
      },
      "execution_count": 9,
      "outputs": [
        {
          "output_type": "stream",
          "name": "stdout",
          "text": [
            "0.9166666666666666\n"
          ]
        }
      ]
    },
    {
      "cell_type": "code",
      "source": [
        "best_silhouette_score = -1\n",
        "best_num_clusters = None\n",
        "best_kmeans = None\n",
        "\n",
        "# try different numbers of clusters\n",
        "for num_clusters in range(100, 140):\n",
        "    kmeans = KMeans(n_clusters=num_clusters, random_state=42) # default similarity measure (euclidean)\n",
        "    cluster_assignments = kmeans.fit_predict(X_train)\n",
        "    silhouette_avg = silhouette_score(X_train, cluster_assignments)\n",
        "\n",
        "    print(\"Cluster: \", num_clusters, \", Silhouette score: \", silhouette_avg)\n",
        "\n",
        "    # save if better silhouette score\n",
        "    if silhouette_avg > best_silhouette_score:\n",
        "        best_silhouette_score = silhouette_avg\n",
        "        best_num_clusters = num_clusters\n",
        "        best_kmeans = kmeans\n",
        "\n",
        "print(\"Best number of clusters:\", best_num_clusters)\n",
        "print(\"Best silhouette score:\", best_silhouette_score)\n",
        "\n",
        "# reduce dimension of dataset\n",
        "X_train_reduced = best_kmeans.transform(X_train) # distance to all clusters\n",
        "X_val_reduced = best_kmeans.transform(X_val)\n",
        "X_test_reduced = best_kmeans.transform(X_test)\n",
        "X_train_reduced.shape"
      ],
      "metadata": {
        "colab": {
          "base_uri": "https://localhost:8080/"
        },
        "id": "wwKe2BJiU7sr",
        "outputId": "ab9f10cc-9f13-41a5-b9b6-8843141a9f6c"
      },
      "execution_count": 5,
      "outputs": [
        {
          "output_type": "stream",
          "name": "stdout",
          "text": [
            "Cluster:  100 , Silhouette score:  0.19350411\n",
            "Cluster:  101 , Silhouette score:  0.19357832\n",
            "Cluster:  102 , Silhouette score:  0.19100979\n",
            "Cluster:  103 , Silhouette score:  0.19044916\n",
            "Cluster:  104 , Silhouette score:  0.1956666\n",
            "Cluster:  105 , Silhouette score:  0.18676892\n",
            "Cluster:  106 , Silhouette score:  0.19931473\n",
            "Cluster:  107 , Silhouette score:  0.19286318\n",
            "Cluster:  108 , Silhouette score:  0.19494958\n",
            "Cluster:  109 , Silhouette score:  0.19216657\n",
            "Cluster:  110 , Silhouette score:  0.19768281\n",
            "Cluster:  111 , Silhouette score:  0.19912644\n",
            "Cluster:  112 , Silhouette score:  0.19240355\n",
            "Cluster:  113 , Silhouette score:  0.19396624\n",
            "Cluster:  114 , Silhouette score:  0.19470957\n",
            "Cluster:  115 , Silhouette score:  0.19848812\n",
            "Cluster:  116 , Silhouette score:  0.20251465\n",
            "Cluster:  117 , Silhouette score:  0.20298488\n",
            "Cluster:  118 , Silhouette score:  0.19294873\n",
            "Cluster:  119 , Silhouette score:  0.20105506\n",
            "Cluster:  120 , Silhouette score:  0.20040497\n",
            "Cluster:  121 , Silhouette score:  0.19428375\n",
            "Cluster:  122 , Silhouette score:  0.1977791\n",
            "Cluster:  123 , Silhouette score:  0.19585113\n",
            "Cluster:  124 , Silhouette score:  0.19256634\n",
            "Cluster:  125 , Silhouette score:  0.19493255\n",
            "Cluster:  126 , Silhouette score:  0.1995315\n",
            "Cluster:  127 , Silhouette score:  0.19629352\n",
            "Cluster:  128 , Silhouette score:  0.20115054\n",
            "Cluster:  129 , Silhouette score:  0.1916986\n",
            "Cluster:  130 , Silhouette score:  0.18925954\n",
            "Cluster:  131 , Silhouette score:  0.19657524\n",
            "Cluster:  132 , Silhouette score:  0.18884629\n",
            "Cluster:  133 , Silhouette score:  0.18901621\n",
            "Cluster:  134 , Silhouette score:  0.19462621\n",
            "Cluster:  135 , Silhouette score:  0.1859811\n",
            "Cluster:  136 , Silhouette score:  0.19664149\n",
            "Cluster:  137 , Silhouette score:  0.18921228\n",
            "Cluster:  138 , Silhouette score:  0.18642761\n",
            "Cluster:  139 , Silhouette score:  0.19086292\n",
            "Best number of clusters: 117\n",
            "Best silhouette score: 0.20298488\n"
          ]
        },
        {
          "output_type": "execute_result",
          "data": {
            "text/plain": [
              "(280, 117)"
            ]
          },
          "metadata": {},
          "execution_count": 5
        }
      ]
    },
    {
      "cell_type": "code",
      "source": [
        "# perform k-fold cross-validation on svc classifier\n",
        "classifier = SVC(kernel=\"linear\", random_state=42)\n",
        "cross_val_scores = cross_val_score(classifier, X_train_reduced, y_train, cv=5)\n",
        "classifier.fit(X_train_reduced, y_train)\n",
        "\n",
        "# predict on validation set\n",
        "validation_predictions = classifier.predict(X_val_reduced)\n",
        "\n",
        "# calculate accuracy on validation set\n",
        "validation_accuracy = accuracy_score(y_val, validation_predictions)\n",
        "print(validation_accuracy)"
      ],
      "metadata": {
        "colab": {
          "base_uri": "https://localhost:8080/"
        },
        "id": "hWSsJzKCXh48",
        "outputId": "380e3fd7-c134-43ea-b9cd-faf8dcf1a637"
      },
      "execution_count": 6,
      "outputs": [
        {
          "output_type": "stream",
          "name": "stdout",
          "text": [
            "0.8833333333333333\n"
          ]
        }
      ]
    },
    {
      "cell_type": "code",
      "source": [
        "# playground to find gridsearch boundaries\n",
        "dbscan = DBSCAN(eps=0.035, min_samples=10, metric=\"cosine\")\n",
        "dbscan_labels = dbscan.fit_predict(X_train)\n",
        "dbscan_labels"
      ],
      "metadata": {
        "colab": {
          "base_uri": "https://localhost:8080/"
        },
        "id": "gsi4C2mMrF6J",
        "outputId": "6c54d959-c0e9-41a7-8525-6e4eefc5bf35"
      },
      "execution_count": 15,
      "outputs": [
        {
          "output_type": "execute_result",
          "data": {
            "text/plain": [
              "array([-1, -1, -1, -1, -1, -1, -1, -1, -1, -1, -1, -1, -1, -1, -1, -1, -1,\n",
              "       -1, -1, -1, -1, -1, -1, -1, -1, -1, -1, -1, -1, -1, -1, -1, -1, -1,\n",
              "       -1, -1, -1, -1, -1, -1, -1, -1, -1, -1, -1, -1, -1, -1, -1, -1, -1,\n",
              "       -1, -1, -1, -1, -1, -1, -1, -1, -1, -1, -1, -1, -1, -1, -1, -1, -1,\n",
              "       -1, -1, -1, -1, -1, -1, -1, -1, -1, -1, -1, -1, -1, -1, -1, -1, -1,\n",
              "       -1, -1, -1, -1, -1, -1, -1, -1, -1, -1, -1, -1, -1, -1, -1, -1, -1,\n",
              "       -1, -1, -1, -1, -1, -1, -1, -1, -1, -1, -1, -1, -1, -1, -1, -1, -1,\n",
              "       -1, -1, -1, -1, -1, -1, -1, -1, -1, -1, -1, -1, -1, -1, -1, -1, -1,\n",
              "       -1, -1, -1, -1, -1, -1, -1, -1, -1, -1, -1, -1, -1, -1, -1, -1, -1,\n",
              "       -1, -1, -1, -1, -1, -1, -1, -1, -1, -1, -1, -1, -1, -1, -1, -1, -1,\n",
              "       -1, -1, -1, -1, -1, -1, -1, -1, -1, -1, -1, -1, -1, -1, -1, -1, -1,\n",
              "       -1, -1, -1, -1, -1, -1, -1, -1, -1, -1, -1, -1, -1, -1, -1, -1, -1,\n",
              "       -1, -1, -1, -1, -1, -1, -1, -1, -1, -1, -1, -1, -1, -1, -1, -1, -1,\n",
              "       -1, -1, -1, -1, -1, -1, -1, -1, -1, -1, -1, -1, -1, -1, -1, -1, -1,\n",
              "       -1, -1, -1, -1, -1, -1, -1, -1, -1, -1, -1, -1, -1, -1, -1, -1, -1,\n",
              "       -1, -1, -1, -1, -1, -1, -1, -1, -1, -1, -1, -1, -1, -1, -1, -1, -1,\n",
              "       -1, -1, -1, -1, -1, -1, -1, -1])"
            ]
          },
          "metadata": {},
          "execution_count": 15
        }
      ]
    },
    {
      "cell_type": "code",
      "source": [
        "# set gridsearch ranges\n",
        "epsilon_values = np.arange(0.005, 0.035, 0.001)\n",
        "min_samples_values = np.arange(2, 10)\n",
        "\n",
        "best_score = -1\n",
        "best_params = None\n",
        "\n",
        "# run gridsearch\n",
        "for epsilon in epsilon_values:\n",
        "    for min_samples in min_samples_values:\n",
        "      dbscan = DBSCAN(eps=epsilon, min_samples=min_samples, metric=\"cosine\")\n",
        "      dbscan_labels = dbscan.fit_predict(X_train)\n",
        "\n",
        "      # check if all X are assigned to more than only 1 cluster, prevent errors in silhouette_score func\n",
        "      if np.unique(dbscan_labels).size > 1:\n",
        "        silhouette_avg = silhouette_score(X_train, dbscan_labels)\n",
        "        # save best score and params\n",
        "        if silhouette_avg > best_score:\n",
        "          best_score = silhouette_avg\n",
        "          best_params = {\"epsilon\": epsilon, \"min_samples\": min_samples}\n",
        "          print(\"Best params:\", best_params, \"Silhouette score: \", best_score)"
      ],
      "metadata": {
        "colab": {
          "base_uri": "https://localhost:8080/"
        },
        "id": "wgQNLPmdjwxY",
        "outputId": "04ed8367-890f-4fcd-d254-52685e1f9e24"
      },
      "execution_count": 8,
      "outputs": [
        {
          "output_type": "stream",
          "name": "stdout",
          "text": [
            "Best params: {'epsilon': 0.005, 'min_samples': 2} Silhouette score:  -0.22310396\n",
            "Best params: {'epsilon': 0.005, 'min_samples': 3} Silhouette score:  0.15079734\n",
            "Best params: {'epsilon': 0.028, 'min_samples': 7} Silhouette score:  0.15117227\n",
            "Best params: {'epsilon': 0.033, 'min_samples': 4} Silhouette score:  0.17967784\n",
            "Best params: {'epsilon': 0.034, 'min_samples': 3} Silhouette score:  0.2039259\n"
          ]
        }
      ]
    }
  ]
}