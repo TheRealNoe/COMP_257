{
  "nbformat": 4,
  "nbformat_minor": 0,
  "metadata": {
    "colab": {
      "provenance": []
    },
    "kernelspec": {
      "name": "python3",
      "display_name": "Python 3"
    },
    "language_info": {
      "name": "python"
    }
  },
  "cells": [
    {
      "cell_type": "code",
      "execution_count": 17,
      "metadata": {
        "id": "wMrWQqYncows"
      },
      "outputs": [],
      "source": [
        "# imports\n",
        "import numpy as np\n",
        "from sklearn.datasets import fetch_olivetti_faces\n",
        "from sklearn.model_selection import train_test_split, cross_val_score\n",
        "from sklearn.preprocessing import StandardScaler\n",
        "from sklearn.svm import SVC\n",
        "from sklearn.cluster import AgglomerativeClustering, FeatureAgglomeration\n",
        "from sklearn.metrics import silhouette_score, accuracy_score\n",
        "from tqdm import tqdm\n",
        "import warnings\n",
        "warnings.filterwarnings(action=\"ignore\", category=FutureWarning)"
      ]
    },
    {
      "cell_type": "code",
      "source": [
        "# get dataset\n",
        "data = fetch_olivetti_faces(shuffle=True, random_state=42)\n",
        "\n",
        "X = data.images.reshape(data.images.shape[0], -1)\n",
        "y = data.target\n",
        "\n",
        "print(\"Images shape:\", X.shape)\n",
        "print(\"Labels shape:\", y.shape)"
      ],
      "metadata": {
        "colab": {
          "base_uri": "https://localhost:8080/"
        },
        "id": "m_rdOAXXdxS3",
        "outputId": "3985c125-2960-4c65-8a95-6fcb8a3f4b88"
      },
      "execution_count": 18,
      "outputs": [
        {
          "output_type": "stream",
          "name": "stdout",
          "text": [
            "Images shape: (400, 4096)\n",
            "Labels shape: (400,)\n"
          ]
        }
      ]
    },
    {
      "cell_type": "code",
      "source": [
        "# split data into training 70% and temporary 30%\n",
        "X_train, X_temp, y_train, y_temp = train_test_split(X, y, test_size=0.3, random_state=42, stratify=y)\n",
        "\n",
        "# split temporary into validation 15% and test 15%\n",
        "X_val, X_test, y_val, y_test = train_test_split(X_temp, y_temp, test_size=0.5, random_state=42, stratify=y_temp)\n",
        "\n",
        "print(\"Training set size:\", X_train.shape[0])\n",
        "print(\"Validation set size:\", X_val.shape[0])\n",
        "print(\"Test set size:\", X_test.shape[0])"
      ],
      "metadata": {
        "colab": {
          "base_uri": "https://localhost:8080/"
        },
        "id": "8BrUx5O3d0L7",
        "outputId": "6d266975-b183-40ce-8a22-a10d8fc207ea"
      },
      "execution_count": 19,
      "outputs": [
        {
          "output_type": "stream",
          "name": "stdout",
          "text": [
            "Training set size: 280\n",
            "Validation set size: 60\n",
            "Test set size: 60\n"
          ]
        }
      ]
    },
    {
      "cell_type": "code",
      "source": [
        "# standardize the input features\n",
        "scaler = StandardScaler()\n",
        "X_train = scaler.fit_transform(X_train)\n",
        "X_val = scaler.transform(X_val)\n",
        "X_test = scaler.transform(X_test)"
      ],
      "metadata": {
        "id": "6CTsXtI2cMmd"
      },
      "execution_count": 20,
      "outputs": []
    },
    {
      "cell_type": "code",
      "source": [
        "# perform k-fold cross-validation on svc classifier\n",
        "classifier = SVC(kernel=\"linear\", random_state=42)\n",
        "cross_val_scores = cross_val_score(classifier, X_train, y_train, cv=5)\n",
        "classifier.fit(X_train, y_train)\n",
        "\n",
        "# predict on validation set\n",
        "y_pred = classifier.predict(X_val)\n",
        "\n",
        "# calculate accuracy on validation set\n",
        "validation_accuracy = accuracy_score(y_val, y_pred)\n",
        "print(\"Accuracy: \", validation_accuracy)"
      ],
      "metadata": {
        "colab": {
          "base_uri": "https://localhost:8080/"
        },
        "id": "YwXE_nUbd2gC",
        "outputId": "d3129876-ad27-49af-f47c-5818e6051140"
      },
      "execution_count": 21,
      "outputs": [
        {
          "output_type": "stream",
          "name": "stdout",
          "text": [
            "Accuracy:  0.9666666666666667\n"
          ]
        }
      ]
    },
    {
      "cell_type": "code",
      "source": [
        "def findBestNumOfAggloCluster(min_cluster, max_cluster, linkage, metric, X_train):\n",
        "  best_silhouette_score = -1\n",
        "  best_num_clusters = None\n",
        "  best_instance = None\n",
        "\n",
        "  # try different numbers of clusters\n",
        "  for num_clusters in tqdm(range(min_cluster, max_cluster)):\n",
        "      clustering = AgglomerativeClustering(n_clusters=num_clusters, linkage=linkage, metric=metric)\n",
        "      cluster_assignments = clustering.fit_predict(X_train)\n",
        "      silhouette_tmp = silhouette_score(X_train, cluster_assignments)\n",
        "\n",
        "      # save if better silhouette score\n",
        "      if silhouette_tmp > best_silhouette_score:\n",
        "          best_silhouette_score = silhouette_tmp\n",
        "          best_num_clusters = num_clusters\n",
        "          best_instance = clustering\n",
        "\n",
        "  return best_instance, best_silhouette_score, best_num_clusters"
      ],
      "metadata": {
        "id": "wtdbZNxaSG77"
      },
      "execution_count": 22,
      "outputs": []
    },
    {
      "cell_type": "code",
      "source": [
        "# metric euclidean: find best silhoutte score and number of cluster\n",
        "best_instance_euclidean, best_silhouette_score_euclidean, best_num_clusters_euclidean = findBestNumOfAggloCluster(2, 200, \"ward\", \"euclidean\", X_train)\n",
        "print(\"\\nBest euclidean silhouette score:\", best_silhouette_score_euclidean)\n",
        "print(\"Best euclidean number of clusters:\", best_num_clusters_euclidean)"
      ],
      "metadata": {
        "colab": {
          "base_uri": "https://localhost:8080/"
        },
        "id": "RljCkYsSG8CY",
        "outputId": "aed57dae-b0db-4ab3-e7d7-08362f8c28e5"
      },
      "execution_count": 23,
      "outputs": [
        {
          "output_type": "stream",
          "name": "stderr",
          "text": [
            "100%|██████████| 198/198 [00:20<00:00,  9.43it/s]\n"
          ]
        },
        {
          "output_type": "stream",
          "name": "stdout",
          "text": [
            "\n",
            "Best euclidean silhouette score: 0.22770585\n",
            "Best euclidean number of clusters: 108\n"
          ]
        }
      ]
    },
    {
      "cell_type": "code",
      "source": [
        "# metric manhattan: find best silhoutte score and number of cluster\n",
        "best_instance_manhattan, best_silhouette_score_manhattan, best_num_clusters_manhattan = findBestNumOfAggloCluster(2, 200, \"complete\", \"manhattan\", X_train)\n",
        "print(\"\\nBest manhattan silhouette score:\", best_silhouette_score_manhattan)\n",
        "print(\"Best manhattan number of clusters:\", best_num_clusters_manhattan)"
      ],
      "metadata": {
        "colab": {
          "base_uri": "https://localhost:8080/"
        },
        "id": "rddPA5uGL-R3",
        "outputId": "b2d14462-82d1-46a4-dc2d-89ade630f91e"
      },
      "execution_count": 24,
      "outputs": [
        {
          "output_type": "stream",
          "name": "stderr",
          "text": [
            "100%|██████████| 198/198 [00:24<00:00,  8.19it/s]"
          ]
        },
        {
          "output_type": "stream",
          "name": "stdout",
          "text": [
            "\n",
            "Best manhattan silhouette score: 0.19456427\n",
            "Best manhattan number of clusters: 109\n"
          ]
        },
        {
          "output_type": "stream",
          "name": "stderr",
          "text": [
            "\n"
          ]
        }
      ]
    },
    {
      "cell_type": "code",
      "source": [
        "# metric cosine similairty: find best silhoutte score and number of cluster\n",
        "best_instance_cosine, best_silhouette_score_cosine, best_num_clusters_cosine = findBestNumOfAggloCluster(2, 200, \"complete\", \"cosine\", X_train)\n",
        "print(\"\\nBest cosine silhouette score:\", best_silhouette_score_cosine)\n",
        "print(\"Best cosine number of clusters:\", best_num_clusters_cosine)"
      ],
      "metadata": {
        "colab": {
          "base_uri": "https://localhost:8080/"
        },
        "id": "ULwHtLucOUyH",
        "outputId": "f5e2ba24-f0e5-4d4d-b1ca-5ceafb800b54"
      },
      "execution_count": 25,
      "outputs": [
        {
          "output_type": "stream",
          "name": "stderr",
          "text": [
            "100%|██████████| 198/198 [00:24<00:00,  8.09it/s]"
          ]
        },
        {
          "output_type": "stream",
          "name": "stdout",
          "text": [
            "\n",
            "Best cosine silhouette score: 0.19777095\n",
            "Best cosine number of clusters: 115\n"
          ]
        },
        {
          "output_type": "stream",
          "name": "stderr",
          "text": [
            "\n"
          ]
        }
      ]
    },
    {
      "cell_type": "code",
      "source": [
        "# metric euclidean: apply feautre agglomeration for dimension reduction\n",
        "feature_agglo_euclidean = FeatureAgglomeration(n_clusters=best_num_clusters_euclidean, linkage=\"ward\", metric=\"euclidean\")\n",
        "X_train_reduced_euclidean = feature_agglo_euclidean.fit_transform(X_train)\n",
        "X_val_reduced_euclidean = feature_agglo_euclidean.transform(X_val)\n",
        "X_test_reduced_euclidean = feature_agglo_euclidean.transform(X_test)\n",
        "\n",
        "# metric manhattan: apply feautre agglomeration for dimension reduction\n",
        "feature_agglo_manhattan = FeatureAgglomeration(n_clusters=best_num_clusters_manhattan, linkage=\"complete\", metric=\"manhattan\")\n",
        "X_train_reduced_manhattan = feature_agglo_manhattan.fit_transform(X_train)\n",
        "X_val_reduced_manhattan = feature_agglo_manhattan.transform(X_val)\n",
        "X_test_reduced_manhattan = feature_agglo_manhattan.transform(X_test)\n",
        "\n",
        "# metric cosine similarity: apply feautre agglomeration for dimension reduction\n",
        "feature_agglo_cosine = FeatureAgglomeration(n_clusters=best_num_clusters_cosine, linkage=\"complete\", metric=\"cosine\")\n",
        "X_train_reduced_cosine = feature_agglo_cosine.fit_transform(X_train)\n",
        "X_val_reduced_cosine = feature_agglo_cosine.transform(X_val)\n",
        "X_test_reduced_cosine = feature_agglo_cosine.transform(X_test)\n",
        "\n",
        "X_train_reduced_euclidean"
      ],
      "metadata": {
        "colab": {
          "base_uri": "https://localhost:8080/"
        },
        "id": "uSXCrvddYK30",
        "outputId": "805e9e66-3d68-4392-96a7-6f6462ae6091"
      },
      "execution_count": 26,
      "outputs": [
        {
          "output_type": "execute_result",
          "data": {
            "text/plain": [
              "array([[ 0.77577409,  0.44326119, -0.39645674, ..., -1.04429361,\n",
              "        -1.98025452, -0.39548714],\n",
              "       [ 0.7332965 ,  0.75286861,  0.76333222, ...,  0.63936276,\n",
              "         0.79064318,  0.58938475],\n",
              "       [ 0.84392468,  1.49966486, -0.12055025, ..., -1.98113974,\n",
              "         0.49804797, -1.2020132 ],\n",
              "       ...,\n",
              "       [ 0.70417633,  0.21640729,  0.20746132, ..., -0.0794773 ,\n",
              "        -0.2139014 , -0.21571886],\n",
              "       [ 0.19462575, -0.11780064,  0.6156343 , ..., -0.26227326,\n",
              "         0.35108655,  1.16140287],\n",
              "       [ 0.52037043,  1.64657204,  0.26235241, ...,  0.67707406,\n",
              "         0.77978669,  0.16119316]])"
            ]
          },
          "metadata": {},
          "execution_count": 26
        }
      ]
    },
    {
      "cell_type": "code",
      "source": [
        "# create iterable structure for prediction\n",
        "prediction_data = [[X_train_reduced_euclidean, X_val_reduced_euclidean, \"Euclidean accuracy: \"],\n",
        "    [X_train_reduced_manhattan, X_val_reduced_manhattan, \"Manhattan accuracy: \"],\n",
        "    [X_train_reduced_cosine, X_val_reduced_cosine, \"Cosine accuracy: \"]]\n",
        "\n",
        "for data in prediction_data:\n",
        "  # perform k-fold cross-validation on svc classifier\n",
        "  classifier = SVC(kernel=\"linear\", random_state=42)\n",
        "  cross_val_scores = cross_val_score(classifier, data[0], y_train, cv=5)\n",
        "  classifier.fit(data[0], y_train)\n",
        "\n",
        "  # predict on validation set\n",
        "  y_pred = classifier.predict(data[1])\n",
        "\n",
        "  # calculate accuracy on validation set\n",
        "  validation_accuracy = accuracy_score(y_val, y_pred)\n",
        "  print(data[2], validation_accuracy)"
      ],
      "metadata": {
        "colab": {
          "base_uri": "https://localhost:8080/"
        },
        "id": "rdoqEtIhaBHb",
        "outputId": "b9721d23-7435-47a4-f5d1-b99d54ea0887"
      },
      "execution_count": 27,
      "outputs": [
        {
          "output_type": "stream",
          "name": "stdout",
          "text": [
            "Euclidean accuracy:  0.9333333333333333\n",
            "Manhattan accuracy:  0.95\n",
            "Cosine accuracy:  0.9333333333333333\n"
          ]
        }
      ]
    }
  ]
}